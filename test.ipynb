{
 "cells": [
  {
   "cell_type": "code",
   "execution_count": 1,
   "metadata": {},
   "outputs": [
    {
     "name": "stdout",
     "output_type": "stream",
     "text": [
      "Product Name: Dancing Session, ID: prod_PDXWOFdkH6MTjV\n",
      "Product Name: Ballroom, ID: prod_PDXT2wUZ0uAfcp\n",
      "Product Name: Ballroom, ID: prod_PDXQTgB9duxYMQ\n",
      "Product Name: Ballroom, ID: prod_PDXPQEv7B39bew\n",
      "Product Name: Ballroom Session, ID: prod_PDXOo9dfKuN7q1\n",
      "Product Name: Ballroom Session, ID: prod_PDXN9xU1GpOyTV\n",
      "Product Name: Ballroom Session, ID: prod_PDX9D1hsd5vXr3\n",
      "Product Name: Ballroom Session, ID: prod_PDWsOPvnJd4sIa\n",
      "Product Name: Ballroom Session, ID: prod_PDWpRa7KCnlyAB\n",
      "Product Name: Ballroom Session, ID: prod_PDWmVSzw1iHnbr\n"
     ]
    }
   ],
   "source": [
    "import stripe\n",
    "import os\n",
    "\n",
    "# Set your Stripe API key\n",
    "stripe.api_key = os.getenv('STRIPE_SECRET')\n",
    "\n",
    "# List all products\n",
    "products = stripe.Product.list()\n",
    "\n",
    "# Iterate through the products and print their names\n",
    "for product in products.data:\n",
    "    print(f\"Product Name: {product.name}, ID: {product.id}\")\n"
   ]
  },
  {
   "cell_type": "code",
   "execution_count": 11,
   "metadata": {},
   "outputs": [
    {
     "name": "stdout",
     "output_type": "stream",
     "text": [
      "Created Price ID: price_1OP8xRE1PS5aYBreXABY5wP8\n"
     ]
    }
   ],
   "source": [
    "import stripe\n",
    "import os\n",
    "\n",
    "# Set your Stripe API key\n",
    "stripe.api_key = os.getenv('STRIPE_SECRET')\n",
    "\n",
    "# Replace 'your_product_id' with the actual ID of your product\n",
    "product_id = 'prod_PDXWOFdkH6MTjV'\n",
    "\n",
    "# Replace 'usd' and '1000' with the desired currency and amount\n",
    "price = stripe.Price.create(\n",
    "    product=product_id,\n",
    "    unit_amount=10000,  # Amount in the smallest currency unit (e.g., cents for USD)\n",
    "    currency='usd',\n",
    ")\n",
    "\n",
    "print(f\"Created Price ID: {price.id}\")\n"
   ]
  },
  {
   "cell_type": "code",
   "execution_count": 12,
   "metadata": {},
   "outputs": [
    {
     "data": {
      "text/plain": [
       "'price_1OP8xRE1PS5aYBreXABY5wP8'"
      ]
     },
     "execution_count": 12,
     "metadata": {},
     "output_type": "execute_result"
    }
   ],
   "source": [
    "'price_1OP8xRE1PS5aYBreXABY5wP8'"
   ]
  },
  {
   "cell_type": "code",
   "execution_count": 14,
   "metadata": {},
   "outputs": [],
   "source": [
    "import stripe\n",
    "stripe.api_key = os.getenv('STRIPE_SECRET')\n",
    "\n",
    "y = stripe.checkout.Session.create(\n",
    "  success_url=\"https://dancersforlife.vercel.app/classes\",\n",
    "  line_items=[{\"price\": \"price_1OP8xRE1PS5aYBreXABY5wP8\", \"quantity\": 1}],\n",
    "  mode=\"payment\",\n",
    ")"
   ]
  },
  {
   "cell_type": "code",
   "execution_count": 16,
   "metadata": {},
   "outputs": [
    {
     "data": {
      "text/plain": [
       "'https://checkout.stripe.com/c/pay/cs_test_a1L4E5bd6saMaNnkLgzUZiZxflb4WwXxXiEQa1ToVj76NklaeeZkD9gRns#fidkdWxOYHwnPyd1blpxYHZxWjA0S1Z1XEJANFVWMGRcR3dgXzZwcWI8XWZBY3ZOVmZNMG9vUGZtYHdcXVBmV3N1fHZhTG91XVdgQm1hMzc3dzFUM2tANkZ0TDRcbFVAclVyVUhSfFdkTGJHNTVLZ0FISkJyfScpJ2N3amhWYHdzYHcnP3F3cGApJ2lkfGpwcVF8dWAnPyd2bGtiaWBabHFgaCcpJ2BrZGdpYFVpZGZgbWppYWB3dic%2FcXdwYHgl'"
      ]
     },
     "execution_count": 16,
     "metadata": {},
     "output_type": "execute_result"
    }
   ],
   "source": [
    "y['url']"
   ]
  }
 ],
 "metadata": {
  "kernelspec": {
   "display_name": "Python 3.10.12 64-bit",
   "language": "python",
   "name": "python3"
  },
  "language_info": {
   "codemirror_mode": {
    "name": "ipython",
    "version": 3
   },
   "file_extension": ".py",
   "mimetype": "text/x-python",
   "name": "python",
   "nbconvert_exporter": "python",
   "pygments_lexer": "ipython3",
   "version": "3.10.12"
  },
  "orig_nbformat": 4,
  "vscode": {
   "interpreter": {
    "hash": "916dbcbb3f70747c44a77c7bcd40155683ae19c65e1c03b4aa3499c5328201f1"
   }
  }
 },
 "nbformat": 4,
 "nbformat_minor": 2
}
